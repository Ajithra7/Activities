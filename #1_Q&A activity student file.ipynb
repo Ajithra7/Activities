{
 "cells": [
  {
   "cell_type": "markdown",
   "metadata": {},
   "source": [
    "## 1. Complete the following code to find the area of an equilateral triangle. Output should be as displayed"
   ]
  },
  {
   "cell_type": "code",
   "execution_count": 1,
   "metadata": {},
   "outputs": [
    {
     "name": "stdout",
     "output_type": "stream",
     "text": [
      "Enter the side of the equilateral triangle: 875\n",
      "331525.3498862304\n"
     ]
    }
   ],
   "source": [
    "import math\n",
    "side = float(input(\"Enter the side of the equilateral triangle: \"))\n",
    "area = ((math.sqrt(3))/4)*pow(side,2)\n",
    "print(area)"
   ]
  },
  {
   "cell_type": "markdown",
   "metadata": {},
   "source": [
    "## 2. Write a program to count the number of each characters in a string"
   ]
  },
  {
   "cell_type": "code",
   "execution_count": 3,
   "metadata": {},
   "outputs": [
    {
     "name": "stdout",
     "output_type": "stream",
     "text": [
      "Enter the string: Ajithra\n",
      "7\n"
     ]
    }
   ],
   "source": [
    "str1 = input(\"Enter the string: \")\n",
    "print(len(str1))"
   ]
  },
  {
   "cell_type": "markdown",
   "metadata": {},
   "source": [
    "## 3. Write a program to find the area and perimeter of a rectangle using functions"
   ]
  },
  {
   "cell_type": "code",
   "execution_count": 4,
   "metadata": {},
   "outputs": [
    {
     "name": "stdout",
     "output_type": "stream",
     "text": [
      "Enter the length of Rectanngle:735\n",
      "Enter the bredth of Rectangle:135\n",
      "Area: 99225.0\n",
      "Perimeter: 1740.0\n"
     ]
    }
   ],
   "source": [
    "def RectArea(l,b):\n",
    "    return(l*b)\n",
    "def RectPeri(l,b):\n",
    "    return(2*(l+b))\n",
    "l=float(input(\"Enter the length of Rectanngle:\"))\n",
    "b=float(input(\"Enter the bredth of Rectangle:\"))\n",
    "print(\"Area:\",RectArea(l,b))\n",
    "print(\"Perimeter:\",RectPeri(l,b))"
   ]
  },
  {
   "cell_type": "markdown",
   "metadata": {},
   "source": [
    "## 4. Write a program to print the fibonacci series till a specified number"
   ]
  },
  {
   "cell_type": "code",
   "execution_count": 6,
   "metadata": {},
   "outputs": [
    {
     "name": "stdout",
     "output_type": "stream",
     "text": [
      "Enter the term limit:12\n",
      "Fibonacci Series is :\n",
      "0 1 1 2 3 5 8 13 21 34 55 89 "
     ]
    }
   ],
   "source": [
    "n=int(input(\"Enter the term limit:\"))\n",
    "def fibo(n):\n",
    "    f1 = 0\n",
    "    f2 = 1\n",
    "    if (n < 1):\n",
    "        return\n",
    "    print(f1, end=\" \")\n",
    "    for x in range(1, n):\n",
    "        print(f2, end=\" \")\n",
    "        next = f1 + f2\n",
    "        f1 = f2\n",
    "        f2 = next\n",
    "print(\"Fibonacci Series is :\")\n",
    "fibo(n)"
   ]
  },
  {
   "cell_type": "markdown",
   "metadata": {},
   "source": [
    "## 5. Complete the following code to find the minimum of 3 number using conditional statements. Output should be as displayed"
   ]
  },
  {
   "cell_type": "code",
   "execution_count": 7,
   "metadata": {},
   "outputs": [
    {
     "name": "stdout",
     "output_type": "stream",
     "text": [
      "Enter three numbers followed by space : 12 65 79\n",
      "First number : 12\n",
      "Second number : 65\n",
      "Third number : 79\n",
      "12  is smallest\n"
     ]
    }
   ],
   "source": [
    "a,b,c = input(\"Enter three numbers followed by space : \").split()\n",
    "print(\"First number :\",a)\n",
    "print(\"Second number :\",b)\n",
    "print(\"Third number :\",c)\n",
    "def largest(a,b,c):\n",
    "    if(a==b==c):\n",
    "        print(\"Entered numbers are equal!!!\")\n",
    "    elif(a<b and a<c):\n",
    "         print(a,\" is smallest\")\n",
    "    elif(b<a and b<c):\n",
    "         print(b,\" is smallest\")\n",
    "    else:\n",
    "         print(c,\" is smallest\")\n",
    "largest(a,b,c)"
   ]
  },
  {
   "cell_type": "markdown",
   "metadata": {},
   "source": [
    "## 6. Write a program to print star pyramind. The number of rows should be taken as input from the user"
   ]
  },
  {
   "cell_type": "code",
   "execution_count": 8,
   "metadata": {},
   "outputs": [
    {
     "name": "stdout",
     "output_type": "stream",
     "text": [
      "Enter the desired  height of pyramid:12\n",
      "                      *  \n",
      "                     * *  \n",
      "                    * * *  \n",
      "                   * * * *  \n",
      "                  * * * * *  \n",
      "                 * * * * * *  \n",
      "                * * * * * * *  \n",
      "               * * * * * * * *  \n",
      "              * * * * * * * * *  \n",
      "             * * * * * * * * * *  \n",
      "            * * * * * * * * * * *  \n",
      "           * * * * * * * * * * * *  \n"
     ]
    }
   ],
   "source": [
    "h = int(input(\"Enter the desired  height of pyramid:\"))\n",
    "def pyramid(h):\n",
    "    m = (2*h)-2\n",
    "    for i in range(0,h):\n",
    "        for j in range(0,m):\n",
    "            print(end=\" \")\n",
    "        m=m-1\n",
    "        for j in range(0,i+1):\n",
    "            print(\"*\",end=\" \")\n",
    "        print(\" \")\n",
    "pyramid(h)"
   ]
  },
  {
   "cell_type": "markdown",
   "metadata": {},
   "source": [
    "## 7. Complete the following code to convert hour into seconds. Output should be as displayed"
   ]
  },
  {
   "cell_type": "code",
   "execution_count": 9,
   "metadata": {},
   "outputs": [
    {
     "name": "stdout",
     "output_type": "stream",
     "text": [
      "Enter time in Hours :24\n",
      "24  Hour is equal to 86400  Seconds\n"
     ]
    }
   ],
   "source": [
    "def to_seconds(t):\n",
    "    t=time_in_hours*60*60\n",
    "    return t\n",
    "time_in_hours = int(input(\"Enter time in Hours :\"))\n",
    "print(time_in_hours ,\" Hour is equal to\" ,to_seconds(time_in_hours) ,\" Seconds\")"
   ]
  },
  {
   "cell_type": "markdown",
   "metadata": {},
   "source": [
    "## 8. Write a program to print multiplication table as below"
   ]
  },
  {
   "cell_type": "code",
   "execution_count": 10,
   "metadata": {},
   "outputs": [
    {
     "name": "stdout",
     "output_type": "stream",
     "text": [
      "Enter which multiplication Table: 67\n",
      "1 x 67 = 67\n",
      "2 x 67 = 134\n",
      "3 x 67 = 201\n",
      "4 x 67 = 268\n",
      "5 x 67 = 335\n",
      "6 x 67 = 402\n",
      "7 x 67 = 469\n",
      "8 x 67 = 536\n",
      "9 x 67 = 603\n",
      "10 x 67 = 670\n"
     ]
    }
   ],
   "source": [
    "t=int(input(\"Enter which multiplication Table: \"))\n",
    "def mult(t):\n",
    "    for i in range(1, 11):\n",
    "           print(i, 'x', t, '=', i*t)\n",
    "mult(t)"
   ]
  },
  {
   "cell_type": "markdown",
   "metadata": {},
   "source": [
    "\n",
    "## 9. Write a program to take your 5 favorite food as list and print each as 'I like Biriyani'"
   ]
  },
  {
   "cell_type": "code",
   "execution_count": 11,
   "metadata": {},
   "outputs": [
    {
     "name": "stdout",
     "output_type": "stream",
     "text": [
      "Enter five favourite foods followed by space : Dosha Pizza Noodles Chappathi GobiManjoorian\n",
      "I like Dosha\n",
      "I like Pizza\n",
      "I like Noodles\n",
      "I like Chappathi\n",
      "I like GobiManjoorian\n"
     ]
    }
   ],
   "source": [
    "menu=input(\"Enter five favourite foods followed by space : \").split()\n",
    "\n",
    "def fav_fd(menu):\n",
    "    for i in range(0,len(menu)):\n",
    "          print(\"I like \"+ menu[i])\n",
    "fav_fd(menu)"
   ]
  },
  {
   "cell_type": "markdown",
   "metadata": {},
   "source": [
    "# "
   ]
  }
 ],
 "metadata": {
  "kernelspec": {
   "display_name": "Python 3 (ipykernel)",
   "language": "python",
   "name": "python3"
  },
  "language_info": {
   "codemirror_mode": {
    "name": "ipython",
    "version": 3
   },
   "file_extension": ".py",
   "mimetype": "text/x-python",
   "name": "python",
   "nbconvert_exporter": "python",
   "pygments_lexer": "ipython3",
   "version": "3.9.7"
  }
 },
 "nbformat": 4,
 "nbformat_minor": 4
}
